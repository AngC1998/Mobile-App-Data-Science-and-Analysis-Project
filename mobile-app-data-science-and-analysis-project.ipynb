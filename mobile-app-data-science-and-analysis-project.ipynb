{
 "cells": [
  {
   "cell_type": "markdown",
   "id": "f38adeec",
   "metadata": {
    "papermill": {
     "duration": 0.002889,
     "end_time": "2025-08-22T03:38:34.365876",
     "exception": false,
     "start_time": "2025-08-22T03:38:34.362987",
     "status": "completed"
    },
    "tags": []
   },
   "source": [
    "# Mobile App Data Science and Analysis Project\n",
    "(Rough Draft Phase)\n",
    "By: Angela Cao\n",
    "\n",
    "## Overview\n",
    "This comprehensive synthetic dataset contains 2,514 authentic mobile app reviews spanning 40+ popular applications across 24 different languages, making it ideal for multilingual NLP, sentiment analysis, and cross-cultural user behavior research.\n",
    "\n",
    "### Language Distribution\n",
    "The dataset includes reviews in 24 languages:\n",
    "- **European**: English (en), Spanish (es), French (fr), German (de), Italian (it), Russian (ru), Polish (pl), Dutch (nl), Swedish (sv), Danish (da), Norwegian (no), Finnish (fi)\n",
    "- **Asian**: Chinese (zh), Hindi (hi), Japanese (ja), Korean (ko), Thai (th), Vietnamese (vi), Indonesian (id), Malay (ms)\n",
    "- **Other**: Arabic (ar), Turkish (tr), Filipino (tl)\n",
    "\n",
    "### Application Categories\n",
    "Reviews cover 18 distinct categories:\n",
    "- Social Networking\n",
    "- Entertainment\n",
    "- Productivity\n",
    "- Travel & Local\n",
    "- Music & Audio\n",
    "- Video Players & Editors\n",
    "- Shopping\n",
    "- Navigation\n",
    "- Finance\n",
    "- Communication\n",
    "- Education\n",
    "- Photography\n",
    "- Dating\n",
    "- Business\n",
    "- Utilities\n",
    "- Health & Fitness\n",
    "- Games\n",
    "- News & Magazines\n",
    "\n",
    "### Popular Apps Included\n",
    "40+ applications including:\n",
    "- **Social**: WhatsApp, Instagram, Facebook, Snapchat, TikTok, LinkedIn, Twitter, Reddit, Pinterest\n",
    "- **Entertainment**: YouTube, Netflix, Spotify\n",
    "- **Productivity**: Microsoft Office, Google Drive, Dropbox, OneDrive, Zoom, Discord\n",
    "- **Travel**: Uber, Lyft, Airbnb, Booking.com, Google Maps, Waze\n",
    "- **Finance**: PayPal, Venmo\n",
    "- **Education**: Duolingo, Khan Academy, Coursera, Udemy\n",
    "- **Tools**: Grammarly, Canva, Adobe Photoshop, VLC, MX Player\n",
    "\n",
    "### Geographic Distribution\n",
    "Reviews from 24 countries across all continents:\n",
    "- **Asia**: China, India, Japan, South Korea, Thailand, Vietnam, Indonesia, Malaysia, Philippines, Pakistan, Bangladesh\n",
    "- **Europe**: Germany, United Kingdom, France, Italy, Spain, Russia, Turkey, Poland\n",
    "- **Americas**: United States, Canada, Brazil, Mexico\n",
    "- **Oceania**: Australia\n",
    "- **Africa**: Nigeria\n",
    "\n",
    "## Project Questions\n",
    "- What apps/app categories have the best reviews/ratings? What apps/app categories have the worst reviews/ratings?\n",
    "- Which apps/app categories have had better ratings/reviews over time? Which apps/app categories have had worse ratings/reviews over time? \n",
    "- Do the connotation of the reviews match with the ratings given?\n",
    "- Do certain demographics influence the ratings/reviews? \n",
    "\n",
    "## Objectives\n",
    "- Clean, wrangle, and engineer the dataset to be a suitable dataset for analysis and ML training/testing\n",
    "- Determine factors that would influence the sentiment of the review or given rating\n",
    "- Determine key words or phrases that would influence the sentiment of the review or given rating\n",
    "- Develop ML model that would predict the rating (either categorical or numerical) of a review based on certain keywords\n",
    "- Develop dashboard that demonstrates all necessary statistics and visualizations"
   ]
  },
  {
   "cell_type": "code",
   "execution_count": 1,
   "id": "a96c1209",
   "metadata": {
    "_cell_guid": "b1076dfc-b9ad-4769-8c92-a6c4dae69d19",
    "_uuid": "8f2839f25d086af736a60e9eeb907d3b93b6e0e5",
    "execution": {
     "iopub.execute_input": "2025-08-22T03:38:34.372219Z",
     "iopub.status.busy": "2025-08-22T03:38:34.371903Z",
     "iopub.status.idle": "2025-08-22T03:38:36.454461Z",
     "shell.execute_reply": "2025-08-22T03:38:36.453329Z"
    },
    "papermill": {
     "duration": 2.087939,
     "end_time": "2025-08-22T03:38:36.456495",
     "exception": false,
     "start_time": "2025-08-22T03:38:34.368556",
     "status": "completed"
    },
    "tags": []
   },
   "outputs": [
    {
     "name": "stdout",
     "output_type": "stream",
     "text": [
      "/kaggle/input/multilingual-mobile-app-reviews-dataset-2025/multilingual_mobile_app_reviews_2025.csv\n"
     ]
    }
   ],
   "source": [
    "# This Python 3 environment comes with many helpful analytics libraries installed\n",
    "# It is defined by the kaggle/python Docker image: https://github.com/kaggle/docker-python\n",
    "# For example, here's several helpful packages to load\n",
    "\n",
    "import numpy as np # linear algebra\n",
    "import pandas as pd # data processing, CSV file I/O (e.g. pd.read_csv)\n",
    "\n",
    "# Input data files are available in the read-only \"../input/\" directory\n",
    "# For example, running this (by clicking run or pressing Shift+Enter) will list all files under the input directory\n",
    "\n",
    "import os\n",
    "for dirname, _, filenames in os.walk('/kaggle/input'):\n",
    "    for filename in filenames:\n",
    "        print(os.path.join(dirname, filename))\n",
    "\n",
    "# You can write up to 20GB to the current directory (/kaggle/working/) that gets preserved as output when you create a version using \"Save & Run All\" \n",
    "# You can also write temporary files to /kaggle/temp/, but they won't be saved outside of the current session"
   ]
  },
  {
   "cell_type": "code",
   "execution_count": 2,
   "id": "586063ad",
   "metadata": {
    "execution": {
     "iopub.execute_input": "2025-08-22T03:38:36.463071Z",
     "iopub.status.busy": "2025-08-22T03:38:36.462643Z",
     "iopub.status.idle": "2025-08-22T03:38:36.541996Z",
     "shell.execute_reply": "2025-08-22T03:38:36.540923Z"
    },
    "papermill": {
     "duration": 0.085122,
     "end_time": "2025-08-22T03:38:36.544274",
     "exception": false,
     "start_time": "2025-08-22T03:38:36.459152",
     "status": "completed"
    },
    "tags": []
   },
   "outputs": [
    {
     "data": {
      "text/html": [
       "<div>\n",
       "<style scoped>\n",
       "    .dataframe tbody tr th:only-of-type {\n",
       "        vertical-align: middle;\n",
       "    }\n",
       "\n",
       "    .dataframe tbody tr th {\n",
       "        vertical-align: top;\n",
       "    }\n",
       "\n",
       "    .dataframe thead th {\n",
       "        text-align: right;\n",
       "    }\n",
       "</style>\n",
       "<table border=\"1\" class=\"dataframe\">\n",
       "  <thead>\n",
       "    <tr style=\"text-align: right;\">\n",
       "      <th></th>\n",
       "      <th>review_id</th>\n",
       "      <th>user_id</th>\n",
       "      <th>app_name</th>\n",
       "      <th>app_category</th>\n",
       "      <th>review_text</th>\n",
       "      <th>review_language</th>\n",
       "      <th>rating</th>\n",
       "      <th>review_date</th>\n",
       "      <th>verified_purchase</th>\n",
       "      <th>device_type</th>\n",
       "      <th>num_helpful_votes</th>\n",
       "      <th>user_age</th>\n",
       "      <th>user_country</th>\n",
       "      <th>user_gender</th>\n",
       "      <th>app_version</th>\n",
       "    </tr>\n",
       "  </thead>\n",
       "  <tbody>\n",
       "    <tr>\n",
       "      <th>0</th>\n",
       "      <td>1</td>\n",
       "      <td>1967825</td>\n",
       "      <td>MX Player</td>\n",
       "      <td>Travel &amp; Local</td>\n",
       "      <td>Qui doloribus consequuntur. Perspiciatis tempo...</td>\n",
       "      <td>no</td>\n",
       "      <td>1.3</td>\n",
       "      <td>2024-10-09 19:26:40</td>\n",
       "      <td>True</td>\n",
       "      <td>Android Tablet</td>\n",
       "      <td>65</td>\n",
       "      <td>14.0</td>\n",
       "      <td>China</td>\n",
       "      <td>Female</td>\n",
       "      <td>1.4</td>\n",
       "    </tr>\n",
       "    <tr>\n",
       "      <th>1</th>\n",
       "      <td>2</td>\n",
       "      <td>9242600</td>\n",
       "      <td>Tinder</td>\n",
       "      <td>Navigation</td>\n",
       "      <td>Great app but too many ads, consider premium v...</td>\n",
       "      <td>ru</td>\n",
       "      <td>1.6</td>\n",
       "      <td>2024-06-21 17:29:40</td>\n",
       "      <td>True</td>\n",
       "      <td>iPad</td>\n",
       "      <td>209</td>\n",
       "      <td>18.0</td>\n",
       "      <td>Germany</td>\n",
       "      <td>Male</td>\n",
       "      <td>8.9</td>\n",
       "    </tr>\n",
       "    <tr>\n",
       "      <th>2</th>\n",
       "      <td>3</td>\n",
       "      <td>7636477</td>\n",
       "      <td>Netflix</td>\n",
       "      <td>Dating</td>\n",
       "      <td>The interface could be better but overall good...</td>\n",
       "      <td>es</td>\n",
       "      <td>3.6</td>\n",
       "      <td>2024-10-31 13:47:12</td>\n",
       "      <td>True</td>\n",
       "      <td>iPad</td>\n",
       "      <td>163</td>\n",
       "      <td>67.0</td>\n",
       "      <td>Nigeria</td>\n",
       "      <td>Male</td>\n",
       "      <td>2.8.37.5926</td>\n",
       "    </tr>\n",
       "    <tr>\n",
       "      <th>3</th>\n",
       "      <td>4</td>\n",
       "      <td>209031</td>\n",
       "      <td>Venmo</td>\n",
       "      <td>Productivity</td>\n",
       "      <td>Latest update broke some features, please fix ...</td>\n",
       "      <td>vi</td>\n",
       "      <td>3.8</td>\n",
       "      <td>2025-03-12 06:16:22</td>\n",
       "      <td>True</td>\n",
       "      <td>iOS</td>\n",
       "      <td>664</td>\n",
       "      <td>66.0</td>\n",
       "      <td>India</td>\n",
       "      <td>Female</td>\n",
       "      <td>10.2</td>\n",
       "    </tr>\n",
       "    <tr>\n",
       "      <th>4</th>\n",
       "      <td>5</td>\n",
       "      <td>7190293</td>\n",
       "      <td>Google Drive</td>\n",
       "      <td>Education</td>\n",
       "      <td>Perfect for daily use, highly recommend to eve...</td>\n",
       "      <td>tl</td>\n",
       "      <td>3.2</td>\n",
       "      <td>2024-04-21 03:48:27</td>\n",
       "      <td>True</td>\n",
       "      <td>iPad</td>\n",
       "      <td>1197</td>\n",
       "      <td>40.0</td>\n",
       "      <td>South Korea</td>\n",
       "      <td>Prefer not to say</td>\n",
       "      <td>4.7</td>\n",
       "    </tr>\n",
       "    <tr>\n",
       "      <th>...</th>\n",
       "      <td>...</td>\n",
       "      <td>...</td>\n",
       "      <td>...</td>\n",
       "      <td>...</td>\n",
       "      <td>...</td>\n",
       "      <td>...</td>\n",
       "      <td>...</td>\n",
       "      <td>...</td>\n",
       "      <td>...</td>\n",
       "      <td>...</td>\n",
       "      <td>...</td>\n",
       "      <td>...</td>\n",
       "      <td>...</td>\n",
       "      <td>...</td>\n",
       "      <td>...</td>\n",
       "    </tr>\n",
       "    <tr>\n",
       "      <th>2509</th>\n",
       "      <td>2510</td>\n",
       "      <td>2322118</td>\n",
       "      <td>OneDrive</td>\n",
       "      <td>Business</td>\n",
       "      <td>Счастье низкий пастух. Нож неожиданно поезд тр...</td>\n",
       "      <td>nl</td>\n",
       "      <td>3.0</td>\n",
       "      <td>2023-11-23 01:07:30</td>\n",
       "      <td>False</td>\n",
       "      <td>iOS</td>\n",
       "      <td>635</td>\n",
       "      <td>21.0</td>\n",
       "      <td>Malaysia</td>\n",
       "      <td>Non-binary</td>\n",
       "      <td>1.1.2-beta</td>\n",
       "    </tr>\n",
       "    <tr>\n",
       "      <th>2510</th>\n",
       "      <td>2511</td>\n",
       "      <td>2167693</td>\n",
       "      <td>Signal</td>\n",
       "      <td>Finance</td>\n",
       "      <td>This app is amazing! Really love the new featu...</td>\n",
       "      <td>ms</td>\n",
       "      <td>1.9</td>\n",
       "      <td>2025-06-05 16:42:20</td>\n",
       "      <td>True</td>\n",
       "      <td>Windows Phone</td>\n",
       "      <td>1127</td>\n",
       "      <td>38.0</td>\n",
       "      <td>Bangladesh</td>\n",
       "      <td>NaN</td>\n",
       "      <td>v12.0.80</td>\n",
       "    </tr>\n",
       "    <tr>\n",
       "      <th>2511</th>\n",
       "      <td>2512</td>\n",
       "      <td>5554467</td>\n",
       "      <td>OneDrive</td>\n",
       "      <td>Social Networking</td>\n",
       "      <td>This app is amazing! Really love the new featu...</td>\n",
       "      <td>zh</td>\n",
       "      <td>3.4</td>\n",
       "      <td>2024-06-15 05:02:18</td>\n",
       "      <td>True</td>\n",
       "      <td>Android Tablet</td>\n",
       "      <td>677</td>\n",
       "      <td>27.0</td>\n",
       "      <td>Pakistan</td>\n",
       "      <td>NaN</td>\n",
       "      <td>9.1.32.4821</td>\n",
       "    </tr>\n",
       "    <tr>\n",
       "      <th>2512</th>\n",
       "      <td>2513</td>\n",
       "      <td>8805125</td>\n",
       "      <td>Coursera</td>\n",
       "      <td>Social Networking</td>\n",
       "      <td>Invitare convincere pericoloso corsa fortuna. ...</td>\n",
       "      <td>da</td>\n",
       "      <td>2.7</td>\n",
       "      <td>2023-12-02 01:41:31</td>\n",
       "      <td>True</td>\n",
       "      <td>Android</td>\n",
       "      <td>155</td>\n",
       "      <td>35.0</td>\n",
       "      <td>India</td>\n",
       "      <td>NaN</td>\n",
       "      <td>v8.9.13</td>\n",
       "    </tr>\n",
       "    <tr>\n",
       "      <th>2513</th>\n",
       "      <td>2514</td>\n",
       "      <td>1099793</td>\n",
       "      <td>Venmo</td>\n",
       "      <td>Education</td>\n",
       "      <td>Latest update broke some features, please fix ...</td>\n",
       "      <td>it</td>\n",
       "      <td>2.1</td>\n",
       "      <td>2025-03-04 02:51:17</td>\n",
       "      <td>True</td>\n",
       "      <td>Android</td>\n",
       "      <td>1040</td>\n",
       "      <td>26.0</td>\n",
       "      <td>Bangladesh</td>\n",
       "      <td>Prefer not to say</td>\n",
       "      <td>2.2</td>\n",
       "    </tr>\n",
       "  </tbody>\n",
       "</table>\n",
       "<p>2514 rows × 15 columns</p>\n",
       "</div>"
      ],
      "text/plain": [
       "      review_id  user_id      app_name       app_category  \\\n",
       "0             1  1967825     MX Player     Travel & Local   \n",
       "1             2  9242600        Tinder         Navigation   \n",
       "2             3  7636477       Netflix             Dating   \n",
       "3             4   209031         Venmo       Productivity   \n",
       "4             5  7190293  Google Drive          Education   \n",
       "...         ...      ...           ...                ...   \n",
       "2509       2510  2322118      OneDrive           Business   \n",
       "2510       2511  2167693        Signal            Finance   \n",
       "2511       2512  5554467      OneDrive  Social Networking   \n",
       "2512       2513  8805125      Coursera  Social Networking   \n",
       "2513       2514  1099793         Venmo          Education   \n",
       "\n",
       "                                            review_text review_language  \\\n",
       "0     Qui doloribus consequuntur. Perspiciatis tempo...              no   \n",
       "1     Great app but too many ads, consider premium v...              ru   \n",
       "2     The interface could be better but overall good...              es   \n",
       "3     Latest update broke some features, please fix ...              vi   \n",
       "4     Perfect for daily use, highly recommend to eve...              tl   \n",
       "...                                                 ...             ...   \n",
       "2509  Счастье низкий пастух. Нож неожиданно поезд тр...              nl   \n",
       "2510  This app is amazing! Really love the new featu...              ms   \n",
       "2511  This app is amazing! Really love the new featu...              zh   \n",
       "2512  Invitare convincere pericoloso corsa fortuna. ...              da   \n",
       "2513  Latest update broke some features, please fix ...              it   \n",
       "\n",
       "      rating          review_date  verified_purchase     device_type  \\\n",
       "0        1.3  2024-10-09 19:26:40               True  Android Tablet   \n",
       "1        1.6  2024-06-21 17:29:40               True            iPad   \n",
       "2        3.6  2024-10-31 13:47:12               True            iPad   \n",
       "3        3.8  2025-03-12 06:16:22               True             iOS   \n",
       "4        3.2  2024-04-21 03:48:27               True            iPad   \n",
       "...      ...                  ...                ...             ...   \n",
       "2509     3.0  2023-11-23 01:07:30              False             iOS   \n",
       "2510     1.9  2025-06-05 16:42:20               True   Windows Phone   \n",
       "2511     3.4  2024-06-15 05:02:18               True  Android Tablet   \n",
       "2512     2.7  2023-12-02 01:41:31               True         Android   \n",
       "2513     2.1  2025-03-04 02:51:17               True         Android   \n",
       "\n",
       "      num_helpful_votes  user_age user_country        user_gender  app_version  \n",
       "0                    65      14.0        China             Female          1.4  \n",
       "1                   209      18.0      Germany               Male          8.9  \n",
       "2                   163      67.0      Nigeria               Male  2.8.37.5926  \n",
       "3                   664      66.0        India             Female         10.2  \n",
       "4                  1197      40.0  South Korea  Prefer not to say          4.7  \n",
       "...                 ...       ...          ...                ...          ...  \n",
       "2509                635      21.0     Malaysia         Non-binary   1.1.2-beta  \n",
       "2510               1127      38.0   Bangladesh                NaN     v12.0.80  \n",
       "2511                677      27.0     Pakistan                NaN  9.1.32.4821  \n",
       "2512                155      35.0        India                NaN      v8.9.13  \n",
       "2513               1040      26.0   Bangladesh  Prefer not to say          2.2  \n",
       "\n",
       "[2514 rows x 15 columns]"
      ]
     },
     "execution_count": 2,
     "metadata": {},
     "output_type": "execute_result"
    }
   ],
   "source": [
    "df = pd.read_csv('/kaggle/input/multilingual-mobile-app-reviews-dataset-2025/multilingual_mobile_app_reviews_2025.csv')\n",
    "df"
   ]
  },
  {
   "cell_type": "code",
   "execution_count": 3,
   "id": "91f420f3",
   "metadata": {
    "execution": {
     "iopub.execute_input": "2025-08-22T03:38:36.552099Z",
     "iopub.status.busy": "2025-08-22T03:38:36.551750Z",
     "iopub.status.idle": "2025-08-22T03:38:36.558950Z",
     "shell.execute_reply": "2025-08-22T03:38:36.558079Z"
    },
    "papermill": {
     "duration": 0.012791,
     "end_time": "2025-08-22T03:38:36.560584",
     "exception": false,
     "start_time": "2025-08-22T03:38:36.547793",
     "status": "completed"
    },
    "tags": []
   },
   "outputs": [
    {
     "data": {
      "text/plain": [
       "Index(['review_id', 'user_id', 'app_name', 'app_category', 'review_text',\n",
       "       'review_language', 'rating', 'review_date', 'verified_purchase',\n",
       "       'device_type', 'num_helpful_votes', 'user_age', 'user_country',\n",
       "       'user_gender', 'app_version'],\n",
       "      dtype='object')"
      ]
     },
     "execution_count": 3,
     "metadata": {},
     "output_type": "execute_result"
    }
   ],
   "source": [
    "df.columns"
   ]
  },
  {
   "cell_type": "code",
   "execution_count": 4,
   "id": "039d90fe",
   "metadata": {
    "execution": {
     "iopub.execute_input": "2025-08-22T03:38:36.567932Z",
     "iopub.status.busy": "2025-08-22T03:38:36.567569Z",
     "iopub.status.idle": "2025-08-22T03:38:36.577839Z",
     "shell.execute_reply": "2025-08-22T03:38:36.576886Z"
    },
    "papermill": {
     "duration": 0.015847,
     "end_time": "2025-08-22T03:38:36.579637",
     "exception": false,
     "start_time": "2025-08-22T03:38:36.563790",
     "status": "completed"
    },
    "tags": []
   },
   "outputs": [
    {
     "data": {
      "text/plain": [
       "review_id            False\n",
       "user_id              False\n",
       "app_name             False\n",
       "app_category         False\n",
       "review_text           True\n",
       "review_language      False\n",
       "rating                True\n",
       "review_date          False\n",
       "verified_purchase    False\n",
       "device_type          False\n",
       "num_helpful_votes    False\n",
       "user_age             False\n",
       "user_country          True\n",
       "user_gender           True\n",
       "app_version           True\n",
       "dtype: bool"
      ]
     },
     "execution_count": 4,
     "metadata": {},
     "output_type": "execute_result"
    }
   ],
   "source": [
    "df.isna().any()"
   ]
  },
  {
   "cell_type": "code",
   "execution_count": 5,
   "id": "1a104cfe",
   "metadata": {
    "execution": {
     "iopub.execute_input": "2025-08-22T03:38:36.587447Z",
     "iopub.status.busy": "2025-08-22T03:38:36.587119Z",
     "iopub.status.idle": "2025-08-22T03:38:36.603622Z",
     "shell.execute_reply": "2025-08-22T03:38:36.602579Z"
    },
    "papermill": {
     "duration": 0.022193,
     "end_time": "2025-08-22T03:38:36.605369",
     "exception": false,
     "start_time": "2025-08-22T03:38:36.583176",
     "status": "completed"
    },
    "tags": []
   },
   "outputs": [
    {
     "data": {
      "text/plain": [
       "review_id            2514\n",
       "user_id              2514\n",
       "app_name               41\n",
       "app_category           18\n",
       "review_text           739\n",
       "review_language        24\n",
       "rating                 41\n",
       "review_date          2514\n",
       "verified_purchase       2\n",
       "device_type             5\n",
       "num_helpful_votes    1078\n",
       "user_age               63\n",
       "user_country           24\n",
       "user_gender             4\n",
       "app_version          2081\n",
       "dtype: int64"
      ]
     },
     "execution_count": 5,
     "metadata": {},
     "output_type": "execute_result"
    }
   ],
   "source": [
    "df.nunique()"
   ]
  },
  {
   "cell_type": "code",
   "execution_count": 6,
   "id": "62da0594",
   "metadata": {
    "execution": {
     "iopub.execute_input": "2025-08-22T03:38:36.612905Z",
     "iopub.status.busy": "2025-08-22T03:38:36.612565Z",
     "iopub.status.idle": "2025-08-22T03:38:36.619756Z",
     "shell.execute_reply": "2025-08-22T03:38:36.618873Z"
    },
    "papermill": {
     "duration": 0.01285,
     "end_time": "2025-08-22T03:38:36.621504",
     "exception": false,
     "start_time": "2025-08-22T03:38:36.608654",
     "status": "completed"
    },
    "tags": []
   },
   "outputs": [
    {
     "data": {
      "text/plain": [
       "review_id              int64\n",
       "user_id                int64\n",
       "app_name              object\n",
       "app_category          object\n",
       "review_text           object\n",
       "review_language       object\n",
       "rating               float64\n",
       "review_date           object\n",
       "verified_purchase       bool\n",
       "device_type           object\n",
       "num_helpful_votes      int64\n",
       "user_age             float64\n",
       "user_country          object\n",
       "user_gender           object\n",
       "app_version           object\n",
       "dtype: object"
      ]
     },
     "execution_count": 6,
     "metadata": {},
     "output_type": "execute_result"
    }
   ],
   "source": [
    "df.dtypes"
   ]
  },
  {
   "cell_type": "markdown",
   "id": "aacac89c",
   "metadata": {
    "papermill": {
     "duration": 0.003033,
     "end_time": "2025-08-22T03:38:36.628227",
     "exception": false,
     "start_time": "2025-08-22T03:38:36.625194",
     "status": "completed"
    },
    "tags": []
   },
   "source": [
    "## Data Engineering"
   ]
  },
  {
   "cell_type": "code",
   "execution_count": null,
   "id": "e60a1d81",
   "metadata": {
    "papermill": {
     "duration": 0.00289,
     "end_time": "2025-08-22T03:38:36.634286",
     "exception": false,
     "start_time": "2025-08-22T03:38:36.631396",
     "status": "completed"
    },
    "tags": []
   },
   "outputs": [],
   "source": []
  }
 ],
 "metadata": {
  "kaggle": {
   "accelerator": "none",
   "dataSources": [
    {
     "datasetId": 7978540,
     "sourceId": 12627315,
     "sourceType": "datasetVersion"
    }
   ],
   "dockerImageVersionId": 31089,
   "isGpuEnabled": false,
   "isInternetEnabled": true,
   "language": "python",
   "sourceType": "notebook"
  },
  "kernelspec": {
   "display_name": "Python 3",
   "language": "python",
   "name": "python3"
  },
  "language_info": {
   "codemirror_mode": {
    "name": "ipython",
    "version": 3
   },
   "file_extension": ".py",
   "mimetype": "text/x-python",
   "name": "python",
   "nbconvert_exporter": "python",
   "pygments_lexer": "ipython3",
   "version": "3.11.13"
  },
  "papermill": {
   "default_parameters": {},
   "duration": 8.453505,
   "end_time": "2025-08-22T03:38:37.158032",
   "environment_variables": {},
   "exception": null,
   "input_path": "__notebook__.ipynb",
   "output_path": "__notebook__.ipynb",
   "parameters": {},
   "start_time": "2025-08-22T03:38:28.704527",
   "version": "2.6.0"
  }
 },
 "nbformat": 4,
 "nbformat_minor": 5
}
